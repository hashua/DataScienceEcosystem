{
 "cells": [
  {
   "cell_type": "markdown",
   "id": "8fe893c9-8360-413a-966d-31da7cbb8450",
   "metadata": {},
   "source": [
    "# Data Science Tools and Ecosystem"
   ]
  },
  {
   "cell_type": "markdown",
   "id": "299b2073-733b-40ad-be3d-4f2cbd8034f6",
   "metadata": {},
   "source": [
    "# In this notebook, Data Science Tools and Ecosystem are summarized."
   ]
  },
  {
   "cell_type": "markdown",
   "id": "feecaaad-1da4-4252-935f-19025701e793",
   "metadata": {},
   "source": [
    "# **Objectives:**\n",
    "# -List popular languages for Data Science\n",
    "# -List popular Libraries for Data Science\n",
    "# -Introducing arithmetic expression\n"
   ]
  },
  {
   "cell_type": "markdown",
   "id": "4077804f-bdae-456a-8d7a-c9e8ae66c7a2",
   "metadata": {},
   "source": [
    "# Some of the popular languages that Data Scientists use are:\n",
    "# 1.Python\n",
    "# 2.R\n",
    "# 4.Scala"
   ]
  },
  {
   "cell_type": "markdown",
   "id": "e0362396-2a28-4da0-b54d-9e1e3fe49c62",
   "metadata": {},
   "source": [
    "# Some of the commonly used libraries used by Data Scientists include:\n",
    "# 1.NumPy\n",
    "# 2.Pandas\n",
    "# 3.TensorFlow"
   ]
  },
  {
   "cell_type": "markdown",
   "id": "b6a1bfb9-fa18-40a1-91f1-f62adaded71c",
   "metadata": {
    "tags": []
   },
   "source": [
    "| Data Science Tools|\n",
    "|------|\n",
    "| RStudio |\n",
    "| Apache Spark |\n",
    "| Apache Hadoop |"
   ]
  },
  {
   "cell_type": "markdown",
   "id": "d8faba37-6b64-438a-bd4c-d5cb76077990",
   "metadata": {},
   "source": [
    "### Below are a few examples of evaluating arithmetic expressions in Python.\n",
    "### 1+2\n",
    "### 4-2\n",
    "### 4*3\n"
   ]
  },
  {
   "cell_type": "code",
   "execution_count": 16,
   "id": "f0c4c474-7a44-45b7-a81b-7615f16c5410",
   "metadata": {
    "tags": []
   },
   "outputs": [
    {
     "data": {
      "text/plain": [
       "17"
      ]
     },
     "execution_count": 16,
     "metadata": {},
     "output_type": "execute_result"
    }
   ],
   "source": [
    "#This a simple arithmetic expression to mutiply then add integers\n",
    "\n",
    "(3*4)+5"
   ]
  },
  {
   "cell_type": "code",
   "execution_count": 17,
   "id": "927e5c08-3e33-4b2a-8998-7e58f1c99c88",
   "metadata": {
    "tags": []
   },
   "outputs": [
    {
     "data": {
      "text/plain": [
       "3.3333333333333335"
      ]
     },
     "execution_count": 17,
     "metadata": {},
     "output_type": "execute_result"
    }
   ],
   "source": [
    "#This will convert 200 minutes to hours by diving by 60\n",
    "\n",
    "200/60"
   ]
  },
  {
   "cell_type": "markdown",
   "id": "4fa7de70-78ec-4385-958f-0a16f539a4d3",
   "metadata": {},
   "source": [
    "## Author \n",
    "Hasan Shuaib"
   ]
  },
  {
   "cell_type": "code",
   "execution_count": null,
   "id": "8d5cb497-c300-4e8f-b4ed-dd3258cf7e9e",
   "metadata": {},
   "outputs": [],
   "source": []
  },
  {
   "cell_type": "code",
   "execution_count": null,
   "id": "60e63eeb-a00b-483e-b303-34cf9feacc26",
   "metadata": {},
   "outputs": [],
   "source": []
  },
  {
   "cell_type": "code",
   "execution_count": null,
   "id": "5d8fd820-60fd-47a6-9799-5a134f6fcbae",
   "metadata": {},
   "outputs": [],
   "source": []
  }
 ],
 "metadata": {
  "kernelspec": {
   "display_name": "Python",
   "language": "python",
   "name": "conda-env-python-py"
  },
  "language_info": {
   "codemirror_mode": {
    "name": "ipython",
    "version": 3
   },
   "file_extension": ".py",
   "mimetype": "text/x-python",
   "name": "python",
   "nbconvert_exporter": "python",
   "pygments_lexer": "ipython3",
   "version": "3.7.12"
  }
 },
 "nbformat": 4,
 "nbformat_minor": 5
}
